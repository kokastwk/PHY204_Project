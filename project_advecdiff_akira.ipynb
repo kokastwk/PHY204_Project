{
 "cells": [
  {
   "cell_type": "markdown",
   "metadata": {},
   "source": [
    "# Numerical integration of advection-diffusion equations"
   ]
  },
  {
   "cell_type": "markdown",
   "metadata": {},
   "source": [
    "The goal of the project is to learn general integration methods suited for parabolic partial differential equations frequently encountered in physics.\n",
    "\n",
    "The prototypical example of such equations is the unidimensional advection-diffusion equation:\n",
    "$$\\frac{\\partial u}{\\partial t}+ V\\frac{\\partial u}{\\partial x}=D \\frac{\\partial ^2 u}{\\partial x^2} +f(u),  \\qquad(Eq. 1)\n",
    "$$\n",
    "with boundary conditions at $x=0$ and $x=L$, and initial condition at $t=0$.\n",
    "Here we wish to follow the evolution in time $t$ for the variable $u(x,t)$, $x$ is the space variable, $V$ is an advection velocity, $D$ is the diffusion coefficient of $u$, $f$ is a source term (e.g. losses, nonlinear reaction, etc), and $L$ is the length of our one-dimensional space domain. The initial condition denotes the knowledge of $u(x,t=0)=u_0(x)$ for $x \\in [0,\\, L]$.  The boundary conditions can be of various type depending on the nature of the physical problem.\n",
    "\n",
    "Periodic boundary conditions: $u(x=0,t)=u(x=L,t)$.\n",
    "\n",
    "Neumann: $ \\left.\\dfrac{\\partial u}{\\partial x}\\right|_{x=0} = \\alpha ; \\quad \\left.\\dfrac{\\partial u}{\\partial x}\\right|_{x=L}=\\beta.$\n",
    "\n",
    "Dirichlet: $u(x=0,t)=\\alpha; \\quad u(x=L,t)=\\beta.$\n",
    "\n",
    "Examples in physics: heat equation ($u$ denotes temperature); transport of a tracer in a liquid ($u$ denotes the concentration); laser pulse propagation in an optical fiber ($u$ denotes the electric field amplitude); time dependent Schrödinger equation ($u$ denotes the wave function; $D \\to i\\hbar/2m, \\ldots$); Ginzburg-Landau equation ($u$ denotes the amplitude of a pattern forming system).\n"
   ]
  },
  {
   "cell_type": "markdown",
   "metadata": {},
   "source": [
    "# Section 1: Spectral method (Fourier basis)"
   ]
  },
  {
   "cell_type": "markdown",
   "metadata": {},
   "source": [
    "We will start by one of the easiest technique to integrate partial differential equations in one spatial dimension, belonging to the class of spectral methods, owing to the fact it is based on a decomposition of the solution into Fourier modes:\n",
    "\n",
    "$$\\hat u(k,t) = \\int_{-\\infty}^{+\\infty} u(x,t) \\exp ( -i k x) dx \\qquad (Eq. FT)$$\n",
    "\n",
    "Naturally this decomposition is well suited to problems with periodic boundary conditions. However, it is possible to find approximate numerical solutions for problems with, e.g., Dirichlet boundary conditions using this method as well, provided special attention is paid to possible artifacts on the boundaries. We assume first periodic boundary conditions due to the use of the Fourier basis. However, we will consider an advection-diffusion problem in an infinite spatial domain and will chose a large enough numerical box size for the calculated solution with the inherent periodic boundary conditions to be a good approximation for the true solution.\n",
    "\n",
    "By applying a Fourier transform to (Eq. 1), we obtain:\n",
    "$$\\frac{\\partial \\hat u}{\\partial t}+ V(ik \\hat u)=D (-k^2) \\hat u +\\hat f(u),  \\qquad(Eq. 2)$$\n",
    "\n",
    "We will limit this example to the case without source term $f(u)=0$, leading to the linear differential equation:\n",
    "$$\\frac{\\partial \\hat u}{\\partial t}= -(D k^2 + ik V) \\hat u ,  \\qquad\\qquad\\qquad(Eq. 3)$$\n",
    "and to its solution:\n",
    "$$ \\hat u(k,t)= \\hat u_0(k) \\exp(-(D k^2 + ik V)t) \\qquad (Eq. P)$$\n",
    "An inverse Fourier transform allows us to find the solution \n",
    "$$u(x,t) = \\frac{1}{2\\pi}\\int_{-\\infty}^{+\\infty} \\hat{u}(k,t) \\exp ( i k x) dk \\qquad (Eq. FT^{-1}) $$"
   ]
  },
  {
   "cell_type": "markdown",
   "metadata": {},
   "source": [
    "## Numerical implementation:\n",
    "\n",
    "Thanks to the availability of generic fast Fourier transforms (FFT, FFT$^{-1}$) algorithms, allowing us to calculate the discretized versions of ($Eq. FT$) and ($Eq. FT^{-1}$), the above development suggests how to compute the solution $u(x,t)$.\n",
    "\n",
    "Let us first discretize both time and space as follows:\n",
    "$$t_n=n \\Delta t, \\quad n=0,…,N_t−1,$$\n",
    "$$x_j=j \\Delta x, \\quad j=0,…,N_x−1,$$\n",
    "\n",
    "Our ultimate goal is to construct a numerical method that allows us to approximate the unknonwn analytic solution $u(x,t)$ reasonably well in these discrete grid points.\n",
    "\n",
    "That is, we want to construct a method that computes values $U(j\\Delta x,n \\Delta t)$\n",
    "(note: capital $U$) so that\n",
    "$$U(j\\Delta x,n\\Delta t)≈u(j\\Delta x,n\\Delta t)$$\n",
    "As a shorthand we will write $U^n_j=U(j\\Delta x,n\\Delta t)$ and $(j,n)$ to refer to grid point $(j\\Delta x,n\\Delta t)$.\n",
    "\n",
    "The variable $\\hat U(j\\Delta k,n\\Delta t)$ denotes the discretized version for the Fourier transformed function $\\hat u(k,t)$. \n",
    "A suitable discretization of the spectral space for wavenumbers $k$ reads:\n",
    "$$k_j=j \\Delta k, \\quad j=-N_x/2,…,N_x/2-1, \\qquad \\Delta k= \\frac{1}{N_x\\Delta x}$$\n",
    "\n",
    "The critical Nyquist (wavenumber) frequency ($k_c=2\\pi f_c$) $f_c=\\frac{1}{2 \\Delta x}$\n",
    "\n",
    "__Note: Numerical implementations of FFT commonly rearrange the positive and negative frequencies. For A = fft(a), the zero frequency component is ```A[0]```, the positive frequency components are ```A[1:N/2]```, and the negative frequencies are ```[N/2+1:]```. Numpy's ```fftfreq``` function returns frequencies $k$ for a given grid spacing $\\Delta x$ and takes this reordering into account.__\n",
    "\n",
    "__Note: Numerical FFT's have the best performance when the length of the array $N$ is a power of 2, i.e. $N = 2^n$__\n",
    "\n",
    "\n",
    "## Algorithm steps:\n",
    "The following three-step algorithm allows us to calculate the solution $u(x,t)$ from $u(x,t=0)$\n",
    "at all times:\n",
    "\n",
    "1. Calculate $\\hat U_j^0$ by applying a FFT procedure to $U_j^0$.\n",
    "\n",
    "2. Multiply by $\\hat U_j^n =\\hat U_j^0\\exp(-(D k_j^2 + i V k_j)\\, n \\Delta t)$\n",
    "\n",
    "3. Calculate $U_j^n$ by applying an IFFT procedure to $\\hat U_j^n$.\n",
    "\n",
    "\n",
    "Note that in the second step, an evolution  from $\\hat u (k,t=0)$ to $\\hat u (k,t)$ is directly performed in a single step. In practice (to solve more complicated PDEs with a non-zero source term $f(u)$), it is useful to perform a series of steps of size $\\Delta t$, as will be shown below."
   ]
  },
  {
   "cell_type": "markdown",
   "metadata": {},
   "source": [
    "## Part 1: Create the initial condition\n",
    "\n",
    "We are going to use a Gaussian function for the initial condition. Sometimes it is convenient to use a class in place of a function, especially when the function has many constant parameters. The strategy is to separate the constant parameters from the parameters that change.\n",
    "\n",
    "We do this by passing all of the constant parameters during initialization (using the ```__init__``` method) and saving them in the class. Then, all non-constant values will be passed into the special method ```__call__```, where we will evaluate the Gaussian function. In Python, the method ```__call__``` allows classes to be used like a function. The syntax ```func(x)``` invokes the ```__call__``` method of object ```func```, explicitly ```func.__call__(x)```.\n",
    "\n",
    "Define a class for the Gaussian function:\n",
    "```python\n",
    "class Gaussian:\n",
    "    \"\"\"Gaussian function\"\"\"\n",
    "    def __init__(self, width, amplitude, x0):\n",
    "        \"\"\"Create Gaussian with the given width and amplitude, centered at x = x0\"\"\"\n",
    "        self.width = width\n",
    "        # ...\n",
    "        \n",
    "    def __call__(self, x):\n",
    "        return # ...\n",
    "```\n",
    "\n",
    "Create a Gaussian object with parameters for the width, amplitude, and shift\n",
    "```python\n",
    "gauss = Gaussian(1/np.sqrt(2*np.pi), 1, 0.5)\n",
    "```\n",
    "\n",
    "Since we defined the ```__call__``` method, the Gaussian object can be evaluated like a function\n",
    "```python\n",
    "gauss(0.5) # 1.0\n",
    "gauss(numpy.array([0, 1, 2, 3])) # array([0.77880078, 0.77880078, 0.10539922, 0.00193045])\n",
    "```\n",
    "\n",
    "Plot your Gaussian function to verify that you've implemented it correctly."
   ]
  },
  {
   "cell_type": "code",
   "execution_count": 1,
   "metadata": {
    "scrolled": true
   },
   "outputs": [
    {
     "data": {
      "text/plain": [
       "array([1.91516960e-174, 1.65841048e-157, 1.94351485e-141, 3.08244070e-126])"
      ]
     },
     "execution_count": 1,
     "metadata": {},
     "output_type": "execute_result"
    }
   ],
   "source": [
    "import numpy as np\n",
    "import matplotlib.pyplot as plt\n",
    "\n",
    "class Gaussian:\n",
    "    \"\"\"Gaussian function\"\"\"\n",
    "    def __init__(self, amplitude, width, x0):\n",
    "        \"\"\"Create Gaussian with the given width and amplitude, centered at x = x0\"\"\"\n",
    "        self.width = width\n",
    "        self.amplitude = amplitude\n",
    "        self.x0 = x0\n",
    "        \n",
    "    def __call__(self, x):\n",
    "        return self.amplitude*np.exp(-(x-self.x0)**2/(self.width)**2)\n",
    "        \n",
    "gauss = Gaussian(1, 1, 20)\n",
    "gauss(np.array([0, 1, 2, 3])) # array([0.77880078, 0.77880078, 0.10539922, 0.00193045])\n",
    "        "
   ]
  },
  {
   "cell_type": "markdown",
   "metadata": {},
   "source": [
    "## Part 2: Define a class to advance the solution from $t$ to $t+\\Delta t$\n",
    "\n",
    "This class should create the spatial $x$ and spectral $k$ grids (consider using the function numpy.fft.fftfreq), set the parameters $D$ and $V$, and provide a way to set the initial condition. It should also define the method  ```step(self, dt)``` for evolving $u(x,t) \\to u(x,t+\\Delta t)$. This method contains the core of the algorithm, i.e., the three substeps:\n",
    "\n",
    "1) Transform $u(x,t) \\to \\hat u(k,t)$ using FFT\n",
    "\n",
    "2) Advance one time step $\\Delta t$ using Eq. (P)\n",
    "\n",
    "3) Transform $\\hat u(k,t) \\to u(x,t)$  using FFT$^{-1}$\n",
    "\n",
    "```python\n",
    "class Spectral:\n",
    "    def __init__(self, L, number_of_points, D, ...):\n",
    "        pass\n",
    "        \n",
    "    def initialize(self, function):\n",
    "        pass\n",
    "        \n",
    "    def step(self, dt):\n",
    "        pass\n",
    "```"
   ]
  },
  {
   "cell_type": "code",
   "execution_count": 2,
   "metadata": {},
   "outputs": [
    {
     "data": {
      "text/plain": [
       "'\\nclass Sin_modified:\\n    def __init__(self, k):\\n        self.k = k\\n\\n    def __call__(self,x):\\n        return np.sin(self.k*x)\\n'"
      ]
     },
     "execution_count": 2,
     "metadata": {},
     "output_type": "execute_result"
    }
   ],
   "source": [
    "class Spectral:\n",
    "    def __init__(self, L, N_x, D, V):\n",
    "        self.D = D\n",
    "        self.V = V\n",
    "        self.N_x = N_x\n",
    "        self.L = L\n",
    "        \n",
    "        self.x_step = L/(N_x-1)\n",
    "        self.space_grid = np.linspace(0,L,N_x)\n",
    "        \n",
    "        self.k_step = 2*np.pi/(self.x_step * N_x)\n",
    "        self.spectral_grid = np.zeros(N_x)\n",
    "\n",
    "        for j in range(N_x//2):\n",
    "            self.spectral_grid[j]= j*self.k_step\n",
    "        for j in range(N_x//2, N_x):\n",
    "            self.spectral_grid[j] = (j-N_x)*self.k_step\n",
    "    def initialize(self, function):\n",
    "        self.u = function(self.space_grid)                \n",
    "    def step(self, dt):\n",
    "        self.u_hat = np.fft.fft(self.u)\n",
    "\n",
    "        for p in range(self.N_x):\n",
    "            self.u_hat[p] = self.u_hat[p]*np.exp(-(self.D*self.spectral_grid[p]**2 + 1j* self.V*self.spectral_grid[p])*dt)\n",
    "\n",
    "        self.u = np.fft.ifft(self.u_hat)\n",
    "        \n",
    "s = Spectral(60,500,5,2)\n",
    "s.initialize(gauss)\n",
    "\n",
    "'''\n",
    "class Sin_modified:\n",
    "    def __init__(self, k):\n",
    "        self.k = k\n",
    "\n",
    "    def __call__(self,x):\n",
    "        return np.sin(self.k*x)\n",
    "'''\n"
   ]
  },
  {
   "cell_type": "markdown",
   "metadata": {},
   "source": [
    "## Part 3: Time evolution\n",
    "Write a function ```advance(spectral, T, N)``` that evolves $u(x,0) \\to u(x,T)$ using $N$ steps"
   ]
  },
  {
   "cell_type": "code",
   "execution_count": 3,
   "metadata": {},
   "outputs": [],
   "source": [
    "def advance(spectral, T,N):\n",
    "    t_step = T/N\n",
    "    for n in range(N):\n",
    "        spectral.step(t_step)\n"
   ]
  },
  {
   "cell_type": "markdown",
   "metadata": {},
   "source": [
    "## Part 4: Check the results\n",
    "1. Plot the solution at $T$, compare with the solution at $t=0$ and with the expected analytical solution at $t=T$; chose a solvable problem, e.g. pure diffusion of the concentration of a tracer with $V=0$:\n",
    "$$u(x,t)=\\frac{U_0}{\\sqrt {1 + \\frac{4Dt}{\\sigma^2}}}\\exp \\left (-\\frac{(x-x_0)^2}{\\sigma^2+4Dt}\\right )$$ "
   ]
  },
  {
   "cell_type": "code",
   "execution_count": 4,
   "metadata": {},
   "outputs": [
    {
     "name": "stderr",
     "output_type": "stream",
     "text": [
      "C:\\Users\\crisx\\AppData\\Local\\Programs\\Python\\Python311\\Lib\\site-packages\\matplotlib\\cbook.py:1699: ComplexWarning: Casting complex values to real discards the imaginary part\n",
      "  return math.isfinite(val)\n",
      "C:\\Users\\crisx\\AppData\\Local\\Programs\\Python\\Python311\\Lib\\site-packages\\matplotlib\\cbook.py:1345: ComplexWarning: Casting complex values to real discards the imaginary part\n",
      "  return np.asarray(x, float)\n"
     ]
    },
    {
     "data": {
      "image/png": "[encoded data removed]",
      "text/plain": [
       "<Figure size 640x480 with 1 Axes>"
      ]
     },
     "metadata": {},
     "output_type": "display_data"
    },
    {
     "data": {
      "image/png": "[encoded data removed]",
      "text/plain": [
       "<Figure size 640x480 with 1 Axes>"
      ]
     },
     "metadata": {},
     "output_type": "display_data"
    }
   ],
   "source": [
    "U_0 = 2\n",
    "sigma = 1\n",
    "x_0 = 20\n",
    "T= 5\n",
    "D = 2\n",
    "diff = Spectral(50,150,D,0)\n",
    "\n",
    "\n",
    "gauss_initial = Gaussian(U_0, sigma, x_0)\n",
    "diff.initialize(gauss_initial)\n",
    "\n",
    "gauss_theo = Gaussian(U_0/(np.sqrt(1 + (4*D*T)/sigma**2)), np.sqrt(sigma**2 + 4*D*T), x_0)\n",
    "\n",
    "\n",
    "advance(diff, T,1)\n",
    "plt.plot(diff.space_grid, diff.u, color = 'r')\n",
    "#plt.plot(diff.space_grid, gauss_theo(diff.space_grid), color = 'b')\n",
    "plt.ylim([0,5])\n",
    "plt.show()\n",
    "\n",
    "plt.plot(diff.space_grid, np.log(np.abs(diff.u - gauss_theo(diff.space_grid))))\n",
    "plt.show()"
   ]
  },
  {
   "cell_type": "markdown",
   "metadata": {},
   "source": [
    "2. Check the solution at $t=T$ for the purely advective part ($D=0$).\n",
    "Hints: any function of $(x-Vt)$ is a solution to $u_t+V u_x=0$. Check the validity of the propagated solution for a Gaussian pulse initial condition."
   ]
  },
  {
   "cell_type": "code",
   "execution_count": null,
   "metadata": {
    "collapsed": true,
    "jupyter": {
     "outputs_hidden": true
    }
   },
   "outputs": [],
   "source": []
  },
  {
   "cell_type": "markdown",
   "metadata": {},
   "source": [
    "# Section 2: Finite differences, the Crank-Nicolson method"
   ]
  },
  {
   "cell_type": "markdown",
   "metadata": {},
   "source": [
    "The Crank-Nicolson method is a well-known finite difference method for the numerical integration of advection-diffusion equations and parabolic partial differential equations in general. It was initially proposed for solving the heat equation.\n",
    "\n",
    "We will resort to the Crank-Nicolson (CN) scheme to integrate numerically Eq. 1 in one space dimension with Neumann boundary conditions.\n",
    "$$\\frac{\\partial u}{\\partial t}+ V\\frac{\\partial u}{\\partial x}=D \\frac{\\partial ^2 u}{\\partial x^2} +f(u),  \\qquad(Eq. 1)$$\n",
    "$$ \\left.\\frac{\\partial u}{\\partial x}\\right\\vert_{x=0,L}=0,$$"
   ]
  },
  {
   "cell_type": "markdown",
   "metadata": {},
   "source": [
    "Neumann boundary conditions specifies that the solution $u$ (e.g. a concentration)\n",
    "has zero space gradient at the boundaries, effectively prohibiting entrance or exit of material at the boundaries (no-flux boundary conditions)."
   ]
  },
  {
   "cell_type": "markdown",
   "metadata": {},
   "source": [
    "# Finite Difference Methods"
   ]
  },
  {
   "cell_type": "markdown",
   "metadata": {},
   "source": [
    "Here we describe a few basic aspects of finite difference methods.\n",
    "\n",
    "The above advection-diffusion equation describes the time evolution of variable $u(x,t)$ in one space dimension.\n",
    "\n",
    "To approximate $u(x,t)$ numerically we discretize the two-dimensional coordinate system in the same way as before resulting in a two-dimensional regular grid. This is the simplest case; the method can be applied to irregular grids with minor changes.\n",
    "\n",
    "Let us discretize both time and space with regular grids:\n",
    "$$t_n=n \\Delta t,\\quad n=0,…,N−1,$$\n",
    "$$x_j=j \\Delta x,\\quad j=0,…,J−1,$$\n",
    "\n",
    "where $N$ and $J$ are the number of discrete time and space points in our grid, respectively. $Δt$ and $Δx$ are the time step and space step respectively and defined as follows:\n",
    "$$Δt=T/N,$$\n",
    "$$Δx=L/J,$$\n",
    "\n",
    "where $T$ is the point in time up to which we will integrate $u$ numerically.\n",
    "\n",
    "As in part 1, our ultimate goal is to construct a numerical method that allows us to approximate the unknown analytic solution $u(x,t)$ reasonably well in these discrete grid points, using the same shorthand notation\n",
    "$$U^n_j=U(jΔx,nΔt)≈u(jΔx,nΔt)$$"
   ]
  },
  {
   "cell_type": "markdown",
   "metadata": {},
   "source": [
    "# The Crank-Nicolson Stencil"
   ]
  },
  {
   "cell_type": "markdown",
   "metadata": {},
   "source": [
    "Based on the two-dimensional grid we construct approximate operators of our advection-diffusion equation.\n",
    "\n",
    "For instance, to approximate the time derivative on the left-hand side in grid point $(j,n)$\n",
    "we use the values of $U$ in two specific grid points:\n",
    "$$\\left.\\frac{\\partial u}{\\partial t}\\right \\vert_{x=jΔx,t=nΔt}≈\\frac{U^{n+1}_j−U^n_j}{Δt}.$$\n",
    "\n",
    "We can think of this scheme as a stencil that we superimpose on our $(x,t)$-grid and this particular stencil is commonly referred to as forward difference.\n",
    "\n",
    "The spatial part of the Crank-Nicolson stencil for the advection-diffusion equation ($u_t=D u_{xx} -V u_x + f(u)$) approximates the Laplace and advection operators of our equation and takes the following form\n",
    "$$D\\left.\\frac{\\partial^2 u}{\\partial x^2}\\right \\vert_{x=jΔx,t=nΔt}≈\\frac{D}{2Δx^2}\\left(U^n_{j+1}−2U^n_j+U^n_{j−1}+U^{n+1}_{j+1}−2U^{n+1}_j+U^{n+1}_{j−1} \\right).$$\n",
    "$$V\\left.\\frac{\\partial u}{\\partial x}\\right \\vert_{x=jΔx,t=nΔt}≈\\frac{V}{4Δx}\\left(U^n_{j+1}−U^n_{j−1}+U^{n+1}_{j+1}−U^{n+1}_{j−1} \\right).$$\n",
    "\n",
    "To approximate $f(u(jΔx,nΔt))$ we can simply write simply $f(U^n_j)$, or $(3/2)f(U^n_j)- (1/2)f(U^{n-1}_j)$ if the second order accuracy of the CN scheme is to be preserved.\n",
    "\n",
    "These approximations define the stencil for our numerical method as pictured on Wikipedia.\n",
    "\n",
    "![](CN_stencil.svg)"
   ]
  },
  {
   "cell_type": "markdown",
   "metadata": {},
   "source": [
    "Applying this stencil to grid point $(j,n)$ gives us the following approximation of our reaction-diffusion equation:"
   ]
  },
  {
   "cell_type": "markdown",
   "metadata": {},
   "source": [
    "$$\\frac{U^{n+1}_j−U^n_j}{Δt}=\\frac{D}{2Δx^2}(U^n_{j+1}−2U^n_j+U^n_{j−1}+U^{n+1}_{j+1}−2U^{n+1}_j+U^{n+1}_{j−1})$$\n",
    "        $$       \\qquad        - \\frac{V}{4Δx}(U^n_{j+1}−U^n_{j−1}+U^{n+1}_{j+1}−U^{n+1}_{j−1})+f(U^n_j).$$"
   ]
  },
  {
   "cell_type": "markdown",
   "metadata": {},
   "source": [
    "# Reordering Stencil into Linear System"
   ]
  },
  {
   "cell_type": "markdown",
   "metadata": {},
   "source": [
    "Let us define $\\sigma \\equiv \\frac{DΔt}{2Δx^2}$, $\\nu\\equiv \\frac{VΔt}{4Δx}$ and reorder the above approximation of our reaction-diffusion equation:\n",
    "$$−(\\sigma+\\nu)U^{n+1}_{j−1}+(1+2\\sigma)U^{n+1}_j−(\\sigma-\\nu )U^{n+1}_{j+1}=(\\sigma+\\nu)U^n_{j−1}+(1−2\\sigma)U^n_j+(\\sigma-\\nu)U^n_{j+1}+Δt f(U^n_j).$$\n",
    "\n",
    "This equation makes sense for space indices $j=1,…,J−2$ but it does not make sense for indices $j=0$ and $j=J−1$\n",
    "\n",
    "(on the boundaries):\n",
    "$$j=0: −(σ+\\nu)U^{n+1}_{−1}+(1+2σ)U^{n+1}_{0}−(σ-\\nu)U^{n+1}_{1}=(σ+\\nu)U^n_{−1}+(1−2σ)U^n_0+(σ-\\nu)U^n_1+Δt \\, f(U^n_0),$$\n",
    "$$j=J−1: −(σ+\\nu)U^{n+1}_{J−2}+(1+2σ)U^{n+1}_{J−1}−(σ-\\nu)U^{n+1}_J=(σ+\\nu)U^n_{J−2}+(1−2σ)U^n_{J−1}+(σ-\\nu)U^n_J+Δt\\,f(U^n_{J−1}).$$\n",
    "\n",
    "The problem here is that the values $U^{n−1}_{-1}$ and $U^n_J$ lie outside our grid.\n",
    "\n",
    "However, we can work out what these values should equal by considering our Neumann boundary condition. Let us discretize our boundary condition at $j=0$ with the backward difference and at $j=J−1$ with the forward difference:\n",
    "$$\\frac{U^n_1−U^n_{-1}}{2Δx}=0,$$\n",
    "$$\\frac{U^n_J−U^n_{J−2}}{2Δx}=0.$$\n",
    "\n",
    "These two equations make it clear that we need to amend our above numerical approximation for $j=0$ with the identities $U^n_{-1}=U^n_1$ and $U^{n+1}_{-1}=U^{n+1}_1$, and for $j=J−1$ with the identities $U^n_{J−2}=U^n_J$ and $U^{n+1}_{J−2}=U^{n+1}_J$.\n",
    "\n",
    "Let us reinterpret our numerical approximation of the line concentration of $u$\n",
    "in a fixed point in time as a vector $\\mathbf{U}^n$:\n",
    "$$\\mathbf{U}^n=\\left [  \n",
    "\\begin{array}{c}\n",
    "U_0^n \\\\\n",
    "\\vdots \\\\\n",
    "U_{J-1}^n\n",
    "\\end{array}\\right ].$$"
   ]
  },
  {
   "cell_type": "markdown",
   "metadata": {},
   "source": [
    "Using this notation we can now write our above approximation for a fixed point in time, $t=n \\Delta t$, compactly as a linear system:\n",
    "$$\\left [  \n",
    "\\begin{array}{ccccccc}\n",
    "1+2\\sigma & - 2\\sigma & 0 & 0 & \\ldots & 0 \\\\\n",
    "-(\\sigma+\\nu) & 1+ 2 \\sigma & - (\\sigma-\\nu) & 0 & \\ldots & 0 \\\\\n",
    " 0 & -(\\sigma+\\nu) & 1+ 2 \\sigma & - (\\sigma-\\nu) & \\ldots & 0 \\\\\n",
    " 0 & 0 & \\ddots & \\ddots  & \\ddots & 0 \\\\\n",
    " 0 & 0 & 0 &-(\\sigma+\\nu) & 1+ 2 \\sigma & - (\\sigma-\\nu) \\\\\n",
    " 0 & 0 & 0 & 0 &-2\\sigma & 1+ 2 \\sigma\n",
    "\\end{array}\\right ]\n",
    "\\left [  \n",
    "\\begin{array}{c}\n",
    "U_0^{n+1} \\\\\n",
    "U_1^{n+1} \\\\\n",
    "U_2^{n+1} \\\\\n",
    "\\vdots \\\\\n",
    "U_{J-2}^{n+1}\\\\\n",
    "U_{J-1}^{n+1}\\\\\n",
    "\\end{array}\\right ]=\n",
    "$$\n",
    "$$\n",
    "\\left [  \n",
    "\\begin{array}{ccccccc}\n",
    "1-2\\sigma & + 2\\sigma & 0 & 0 & \\ldots & 0 \\\\\n",
    "\\sigma+\\nu & 1 -2 \\sigma & + \\sigma-\\nu & 0 & \\ldots & 0 \\\\\n",
    " 0 & \\sigma+\\nu & 1- 2 \\sigma & + \\sigma-\\nu & \\ldots & 0 \\\\\n",
    " 0 & 0 & \\ddots & \\ddots  & \\ddots & 0 \\\\\n",
    " 0 & 0 & 0 &+\\sigma+\\nu & 1- 2 \\sigma & + \\sigma-\\nu \\\\\n",
    " 0 & 0 & 0 & 0 &+2\\sigma & 1- 2 \\sigma\n",
    "\\end{array}\\right ]\n",
    "\\left [  \n",
    "\\begin{array}{c}\n",
    "U_0^{n} \\\\\n",
    "U_1^{n} \\\\\n",
    "U_2^{n} \\\\\n",
    "\\vdots \\\\\n",
    "U_{J-2}^{n}\\\\\n",
    "U_{J-1}^{n}\\\\\n",
    "\\end{array}\\right ]+\n",
    "\\Delta t \\left [ \\begin{array}{c}\n",
    "f(U_0^{n}) \\\\\n",
    "f(U_1^{n}) \\\\\n",
    "f(U_2^{n}) \\\\\n",
    "\\vdots \\\\\n",
    "f(U_{J-2}^{n})\\\\\n",
    "f(U_{J-1}^{n})\\\\\n",
    "\\end{array}\\right ]\n",
    "$$\n",
    "\n",
    "\n",
    "Note that since our numerical integration starts with a well-defined initial condition at $n=0$, $U^0$, the vector $\\mathbf{U}^{n+1}$\n",
    "on the left-hand side is the only unknown in this system of linear equations.\n",
    "\n",
    "Thus, to integrate numerically our advection-diffusion system from time point $n$ to $n+1$ we need to solve numerically for vector $\\mathbf{U}^{n+1}$.\n",
    "\n",
    "Let us call the matrix on the left-hand side $A$, the one on the right-hand side $B$, and the vector on the right-hand side $f^n$. Using this notation we can write the above system as\n",
    "$$AU^{n+1}=BU^n+F^n,$$\n",
    "\n",
    "where $F^n\\equiv \\Delta t f (U^n)$. In this linear equation, matrices $A$ and $B$ are defined by our problem: we need to specify these matrices once for our problem and incorporate our boundary conditions in them. Vector $F^n$ is a function of $U^n$ and so needs to be reevaluated in every time point $n$. We also need to carry out one matrix-vector multiplication every time point, $BU^n$, and one vector-vector addition, $BU^n+F^n$.\n",
    "\n",
    "The most expensive numerical operation is inversion of matrix $A$\n",
    "to solve for $U^{n+1}$, however we may get away with doing this only once and store the inverse of $A$ as $A^{−1}$:\n",
    "\n",
    "$$U^{n+1}=A^{−1}(BU^n+F^n). \\quad (Eq. CN1).$$\n",
    "\n",
    "Without the vector $F^n$ on the right hand side, the Crank-Nicolson scheme is a second order scheme that is unconditionally stable. In the presence of a source term $F^n$ on the right hand side, the Crank-Nicolson scheme defined by (Eq. CN1) is only a first order scheme. In order to preserve the second order accuracy, the source term must be modified as:\n",
    "\n",
    "$$U^{n+1}=A^{−1}(BU^n+\\frac{3}{2}F^n-\\frac{1}{2}F^{n-1}). \\quad (Eq. CN2)$$\n"
   ]
  },
  {
   "cell_type": "markdown",
   "metadata": {},
   "source": [
    "## Part 1: Create Crank-Nicolson class to solve Eq. CN2\n",
    "Your class implementation should provide the following functionality:\n",
    "1. Initialize the spatial grid and temporal grids\n",
    "2. Set the parameters $D$ and $V$, as well as the function $f$\n",
    "3. Create the matrices $A$ and $B$. Hint: numpy's diagflat is useful for setting the diagonal elements of an array\n",
    "4. The ability to modify the values in $A$ and $B$ for implementing Dirichlet and Neumann boundary conditions\n",
    "5. Solve Eq. CN2 using scipy.linalg.solve\n",
    "6. Optional: Since the system is tri-diagonal, you could use ```scipy.linalg.solve_banded``` in place of the standard ```solve```. This will make your code much faster. Make sure you read the documentation page, since ```solve_banded``` expects the matrices to be in a special format.\n",
    "\n",
    "Reminder: To perform matrix-vector multiplication using numpy arrays, use the syntax of ```A.dot(B)```, since ```A*B``` is element-wise multiplication."
   ]
  },
  {
   "cell_type": "code",
   "execution_count": 5,
   "metadata": {},
   "outputs": [],
   "source": [
    "import scipy.linalg\n",
    "\n",
    "class CN_solver:\n",
    "    def __init__(self, L, N_x, T, N_t, D, V, f, neumann):\n",
    "        self.D = D\n",
    "        self.V = V\n",
    "        self.f = f\n",
    "        \n",
    "        self.N_x = N_x\n",
    "        self.L = L\n",
    "        self.x_step = L/(N_x-1)\n",
    "        self.space_grid = np.linspace(0,L,N_x)\n",
    "        \n",
    "        self.T = T\n",
    "        self.N_t = N_t\n",
    "        self.t_step = T/(N_t-1)\n",
    "        self.time_grid = np.linspace(0,T,N_t)\n",
    "\n",
    "        self.U = np.zeros((int(N_x),int(N_t)))\n",
    "        self.F = np.zeros((int(N_x), int(N_t)))\n",
    "\n",
    "        self.sigma = D*self.t_step/(2*self.x_step**2)\n",
    "        self.ni = V*self.t_step/(4*self.x_step)\n",
    "        if neumann == True:\n",
    "            #self.A = np.diagflat([1+2*self.sigma]*N_x) + np.diagflat(np.concatenate([-self.sigma - self.ni]*(N_x-2), [-2*self.sigma]),-1) + np.diagflat(np.concatenate([-2*self.sigma],[-self.sigma - self.ni]*(N_x-2)),1)\n",
    "            self.A = np.diagflat([1+2*self.sigma]*N_x) + np.diagflat(np.array([-self.sigma - self.ni]*(N_x-2) + [-2*self.sigma]),-1) + np.diagflat(np.array([-2*self.sigma] + [-self.sigma + self.ni]*(N_x-2)),1)\n",
    "            self.B = np.diagflat([1-2*self.sigma]*N_x) + np.diagflat(np.array([self.sigma + self.ni]*(N_x-2) + [2*self.sigma]),-1) + np.diagflat(np.array([2*self.sigma] + [self.sigma - self.ni]*(N_x-2)),1)\n",
    "        elif dirichlet == True:\n",
    "            \n",
    "        self.A_inv = scipy.linalg.inv(self.A)\n",
    "\n",
    "    def initialize(self, function):\n",
    "        ''' for x in range(N_x):\n",
    "            self.U[x,0] = function(x_grid(x))\n",
    "        '''\n",
    "        self.U[:,0] = function(self.space_grid)\n",
    "        self.F[:,0] = self.f(self.U[:0])\n",
    "        \n",
    "    def solve(self):\n",
    "        for t in range(1,self.N_t):\n",
    "            self.U[:,t] = self.A_inv.dot(self.B.dot(self.U[:,t-1]) +self.F[:,t-1])\n",
    "            self.F[:,t] = self.f(self.U[:,t])\n",
    "\n",
    "        return self.U\n",
    "    \n",
    " "
   ]
  },
  {
   "cell_type": "markdown",
   "metadata": {},
   "source": [
    "## Part 2 - Tests\n",
    "### 2.a Initial condition and spatial/temporal grids\n",
    "1. A Gaussian for the initial condition, $\\sigma = 5$, $x_0 = 50$, $U_0 = 2$\n",
    "2. For the spatial grid, use 600 points to sample the domain (0, 100)\n",
    "3. For the temporal grid, use 1000 points to sample (0, 200)"
   ]
  },
  {
   "cell_type": "code",
   "execution_count": 6,
   "metadata": {},
   "outputs": [],
   "source": [
    "gauss = Gaussian(2,5,50)\n",
    "\n",
    "def f(x):\n",
    "    return 0"
   ]
  },
  {
   "cell_type": "markdown",
   "metadata": {},
   "source": [
    "### 2.b Purely diffusive case\n",
    "Use the parameters $D = 1$, $V = 0$, $f(u) = 0$ and plot the solution $u(x,t)$ using matplotlib's ```pcolormesh```."
   ]
  },
  {
   "cell_type": "code",
   "execution_count": 7,
   "metadata": {},
   "outputs": [
    {
     "data": {
      "text/plain": [
       "<matplotlib.collections.QuadMesh at 0x2e46d6cdcd0>"
      ]
     },
     "execution_count": 7,
     "metadata": {},
     "output_type": "execute_result"
    },
    {
     "data": {
      "image/png": "[encoded data removed]",
      "text/plain": [
       "<Figure size 640x480 with 1 Axes>"
      ]
     },
     "metadata": {},
     "output_type": "display_data"
    }
   ],
   "source": [
    "cn = CN_solver(100,600,200,1000,1,0,f, True)\n",
    "\n",
    "cn.initialize(gauss)\n",
    "U = cn.solve()\n",
    "\n",
    "plt.pcolormesh(U)"
   ]
  },
  {
   "cell_type": "markdown",
   "metadata": {},
   "source": [
    "### 2.c Purely advective case\n",
    "Use the parameters $D = 0$, $V = 1$, $f(u) = 0$ and plot the solution $u(x,t)$ using matplotlib's ```pcolormesh```."
   ]
  },
  {
   "cell_type": "code",
   "execution_count": 9,
   "metadata": {},
   "outputs": [
    {
     "data": {
      "text/plain": [
       "<matplotlib.collections.QuadMesh at 0x2e41203cbd0>"
      ]
     },
     "execution_count": 9,
     "metadata": {},
     "output_type": "execute_result"
    },
    {
     "data": {
      "image/png": "[encoded data removed]",
      "text/plain": [
       "<Figure size 640x480 with 1 Axes>"
      ]
     },
     "metadata": {},
     "output_type": "display_data"
    }
   ],
   "source": [
    "cn = CN_solver(100,600,200,1000,0.01,1,f, True)\n",
    "\n",
    "cn.initialize(gauss)\n",
    "U = cn.solve()\n",
    "\n",
    "plt.pcolormesh(np.absolute(U))"
   ]
  },
  {
   "cell_type": "markdown",
   "metadata": {},
   "source": [
    "## Part 3 - Nonlinear evolution\n",
    "1. Use the parameters $D = 1$, $V = 1.3$, $\\mu = 1$, define $f(u)=\\mu u - u^3$\n",
    "\n",
    "2. modify the boundary condition at the origin: $u(x=0,t)=0$\n",
    "\n",
    "3. modify the previously implemented Crank-Nicolson scheme to add nonlinearity $f(u)$. Implement Eq. (CN1) for simplicity, or Eq. (CN2) to preserve the second order accuracy of the Crank-Nicolson scheme.\n",
    "\n",
    "4. Solve $u_t=-Vu_x + D u_{xx} + f(u)$  with $\\mu=1$, and input condition $u(x,t=0)$ chosen as a random noise or as small amplitude localized pulse.\n",
    "\n",
    "5. Vary advection velocity and comment on the calculated solution."
   ]
  },
  {
   "cell_type": "code",
   "execution_count": null,
   "metadata": {
    "collapsed": true,
    "jupyter": {
     "outputs_hidden": true
    }
   },
   "outputs": [],
   "source": []
  },
  {
   "cell_type": "markdown",
   "metadata": {
    "collapsed": true,
    "jupyter": {
     "outputs_hidden": true
    }
   },
   "source": [
    "## Part 4: Ginzburg-Landau Equation\n",
    "\n",
    "$$\\frac{\\partial u}{\\partial t}+ V\\frac{\\partial u}{\\partial x}=(1+i\\alpha) \\frac{\\partial ^2 u}{\\partial x^2} +\\mu u - (1+i \\beta) \\vert u \\vert^2 u,  \\qquad(Eq. 2)$$\n",
    "\n",
    "This equation is called the Ginzburg-Landau equation and is well known in the context of pattern formation in unstable physical systems. It describes the growth and the saturation of instability waves over a basic state. A typical example is Rayleigh-Benárd convection (formation of convection rolls occurring in a plane horizontal layer of fluid heated from below), where in that case, $u$ represents the amplitude of the rolls.\n",
    "\n",
    "Here we will go back to the boundary conditions $u_x(x=0)=0, \\quad u_x(x=L)=0$ and to the case without advection $V=0$.\n",
    "\n",
    "1. Modify the functions defining matrices $A$ and $B$ (if necessary) so as to fill them with complex values.\n",
    "\n",
    "2. Modify the definition of the function $f(u)$ to match Eq. (2).\n",
    "\n",
    "A variety of regimes exist depending on the parameter values and the initial condition. Examples can be found on the following link https://www.uni-muenster.de/imperia/md/content/physik_tp/lectures/ss2017/numerische_Methoden_fuer_komplexe_Systeme_II/gle.pdf\n",
    "\n",
    "The following figure shows the \"phase space\" and the various regimes that are obtained.\n",
    "\n",
    "![](phasediagram.jpg)\n",
    "\n",
    "\n",
    "Check your changes with the following parameters: $\\alpha = 0$, $\\beta = -1.77$, $V=0$, $\\mu = 1$.\n",
    "\n",
    "Use an initial condition of the sum of two gaussians centered at $x_0 = 60$ and $x_1 = 30$, with amplitude $U_0 = 0.1 + 0.2j$ and $\\sigma = 1$.\n",
    "\n",
    "Plot the real and absolute value of $u(x,t)$."
   ]
  },
  {
   "cell_type": "code",
   "execution_count": null,
   "metadata": {
    "collapsed": true,
    "jupyter": {
     "outputs_hidden": true
    }
   },
   "outputs": [],
   "source": []
  },
  {
   "cell_type": "markdown",
   "metadata": {},
   "source": [
    "Simulate the regime of defect mediated turbulence, $\\alpha= 2$,$\\beta=-2$ using an input condition of random noise (use complex values).\n"
   ]
  },
  {
   "cell_type": "code",
   "execution_count": null,
   "metadata": {
    "collapsed": true,
    "jupyter": {
     "outputs_hidden": true
    }
   },
   "outputs": [],
   "source": []
  },
  {
   "cell_type": "markdown",
   "metadata": {},
   "source": [
    "Simulate the regime of phase turbulence $\\alpha= 2$, $\\beta=-1$ using random noise (complex) as the input condition."
   ]
  },
  {
   "cell_type": "code",
   "execution_count": null,
   "metadata": {
    "collapsed": true,
    "jupyter": {
     "outputs_hidden": true
    }
   },
   "outputs": [],
   "source": []
  },
  {
   "cell_type": "markdown",
   "metadata": {},
   "source": [
    "Compare results with those plotted here:\n",
    "https://www.uni-muenster.de/imperia/md/content/physik_tp/lectures/ss2017/numerische_Methoden_fuer_komplexe_Systeme_II/gle.pdf"
   ]
  }
 ],
 "metadata": {
  "anaconda-cloud": {},
  "kernelspec": {
   "display_name": "Python 3 (ipykernel)",
   "language": "python",
   "name": "python3"
  },
  "language_info": {
   "codemirror_mode": {
    "name": "ipython",
    "version": 3
   },
   "file_extension": ".py",
   "mimetype": "text/x-python",
   "name": "python",
   "nbconvert_exporter": "python",
   "pygments_lexer": "ipython3",
   "version": "3.11.3"
  }
 },
 "nbformat": 4,
 "nbformat_minor": 4
}
